{
  "nbformat": 4,
  "nbformat_minor": 0,
  "metadata": {
    "colab": {
      "provenance": []
    },
    "kernelspec": {
      "name": "python3",
      "display_name": "Python 3"
    },
    "language_info": {
      "name": "python"
    }
  },
  "cells": [
    {
      "cell_type": "markdown",
      "source": [
        "## Pre-requisites"
      ],
      "metadata": {
        "id": "NyzZ-j87RyKE"
      }
    },
    {
      "cell_type": "markdown",
      "source": [
        "For this project, Gemini was used to generate an email template, and Google Colab was employed as the development environment for the code. To ensure the security of the Gemini API key, it was stored in Colab's Secrets Manager, preventing its exposure within the notebook's code. This practice is essential for maintaining data integrity and protecting access to a project's resources."
      ],
      "metadata": {
        "id": "PBqKUUUZR4xU"
      }
    },
    {
      "cell_type": "code",
      "execution_count": 2,
      "metadata": {
        "colab": {
          "base_uri": "https://localhost:8080/"
        },
        "id": "FwmWVWy4Ms0K",
        "outputId": "982c733c-b226-4b8e-c47d-a761205dd1f0"
      },
      "outputs": [
        {
          "output_type": "stream",
          "name": "stdout",
          "text": [
            "AI learns patterns from data to make intelligent decisions.\n"
          ]
        }
      ],
      "source": [
        "from google import genai\n",
        "from google.colab import userdata\n",
        "\n",
        "# Access the API key from Colab secrets\n",
        "API_KEY = userdata.get('API_KEY')\n",
        "\n",
        "# Ensure the API key is not None or empty before proceeding\n",
        "if not API_KEY:\n",
        "  raise ValueError(\"API_KEY not found in Colab secrets. Please add it to the secrets manager.\")\n",
        "\n",
        "client = genai.Client(api_key=API_KEY)\n",
        "\n"
      ]
    },
    {
      "cell_type": "markdown",
      "source": [
        "## Prompt"
      ],
      "metadata": {
        "id": "GdVgcH6ySick"
      }
    },
    {
      "cell_type": "code",
      "source": [
        "## Prompt for email generation\n",
        "prompt = \"\"\"\n",
        "You are Customer Retention Email Specialist for Vodafone.\n",
        "Generate a customer retention email for Vodafone. The email should be addressed to a loyal, long-term customer named [Customer Name]. The email's purpose is to thank them for their loyalty and offer an exclusive benefit package as a token of appreciation.\n",
        "\n",
        "The tone should be friendly, approachable, clear, concise, positive, reassuring, professional, and trustworthy. The email must follow this structure:\n",
        "\n",
        "\n",
        "\n",
        "Subject Line: Friendly and enticing.\n",
        "\n",
        "Greeting: Warm and personalized.\n",
        "\n",
        "Introduction: A brief, appreciative opening.\n",
        "\n",
        "Body: Use bullet points to list three exclusive benefits, such as discounts on upgrades, priority customer support, or early access to new features.\n",
        "\n",
        "Call to Action: Clear and compelling, prompting the customer to explore their benefits.\n",
        "\n",
        "Closing: Warm and appreciative.\n",
        "\n",
        "Signature: Professional and from the Vodafone Customer Care Team.\n",
        "\n",
        "Ensure the message is personalized and consistent throughout, reflecting Vodafone's commitment to its customers. The email should use straightforward language and avoid technical jargon.\n",
        "\"\"\""
      ],
      "metadata": {
        "id": "FEXk_xWINnBv"
      },
      "execution_count": 5,
      "outputs": []
    },
    {
      "cell_type": "code",
      "source": [
        "response = client.models.generate_content(\n",
        "    model=\"gemini-2.5-flash\", contents=prompt\n",
        ")\n",
        "print(response.text)"
      ],
      "metadata": {
        "colab": {
          "base_uri": "https://localhost:8080/"
        },
        "id": "iB2IPJaEQe_d",
        "outputId": "28a6e24b-6edf-4cc9-a251-06e35b2e3f35"
      },
      "execution_count": 6,
      "outputs": [
        {
          "output_type": "stream",
          "name": "stdout",
          "text": [
            "Subject: A Special Thank You, [Customer Name] – Exclusive Benefits Inside!\n",
            "\n",
            "Dear [Customer Name],\n",
            "\n",
            "At Vodafone, we truly value the trust and loyalty you've shown us over the years. We wanted to take a moment to personally thank you for being such an important and long-standing member of the Vodafone family. Your continued support means the world to us.\n",
            "\n",
            "As a token of our sincere appreciation for your long-term loyalty, we're delighted to offer you an exclusive package of benefits, tailored especially for valued customers like you. It's our way of saying thank you for staying with us.\n",
            "\n",
            "Here’s a glimpse of what awaits you:\n",
            "\n",
            "*   **Exclusive Upgrade Savings:** Enjoy a significant discount on your next device upgrade, making it easier to stay connected with the latest technology.\n",
            "*   **Priority Customer Care:** Gain access to our dedicated Priority Customer Service line, ensuring you receive faster, more personalized support whenever you need it.\n",
            "*   **Early Access to New Features:** Be among the first to explore and enjoy new Vodafone features, services, and special offers before they’re released to everyone else.\n",
            "\n",
            "We invite you to discover the full details of these exclusive benefits and how to start enjoying them today. Simply visit your personalized loyalty portal here: [Link to Your Exclusive Benefits]\n",
            "\n",
            "Thank you once again for your continued trust and for being such a valued part of the Vodafone community. We look forward to continuing to serve you.\n",
            "\n",
            "Warm regards,\n",
            "\n",
            "The Vodafone Customer Care Team\n"
          ]
        }
      ]
    },
    {
      "cell_type": "markdown",
      "source": [
        "## Email"
      ],
      "metadata": {
        "id": "Av-EEnQPRXZ8"
      }
    },
    {
      "cell_type": "markdown",
      "source": [
        "Subject: A Special Thank You, [Customer Name] – Exclusive Benefits Inside!\n",
        "\n",
        "Dear [Customer Name],\n",
        "\n",
        "At Vodafone, we truly value the trust and loyalty you've shown us over the years. We wanted to take a moment to personally thank you for being such an important and long-standing member of the Vodafone family. Your continued support means the world to us.\n",
        "\n",
        "As a token of our sincere appreciation for your long-term loyalty, we're delighted to offer you an exclusive package of benefits, tailored especially for valued customers like you. It's our way of saying thank you for staying with us.\n",
        "\n",
        "Here’s a glimpse of what awaits you:\n",
        "\n",
        "*   **Exclusive Upgrade Savings:** Enjoy a significant discount on your next device upgrade, making it easier to stay connected with the latest technology.\n",
        "*   **Priority Customer Care:** Gain access to our dedicated Priority Customer Service line, ensuring you receive faster, more personalized support whenever you need it.\n",
        "*   **Early Access to New Features:** Be among the first to explore and enjoy new Vodafone features, services, and special offers before they’re released to everyone else.\n",
        "\n",
        "We invite you to discover the full details of these exclusive benefits and how to start enjoying them today. Simply visit your personalized loyalty portal here: [Link to Your Exclusive Benefits]\n",
        "\n",
        "Thank you once again for your continued trust and for being such a valued part of the Vodafone community. We look forward to continuing to serve you.\n",
        "\n",
        "Warm regards,\n",
        "\n",
        "The Vodafone Customer Care Team"
      ],
      "metadata": {
        "id": "uX_W0iafRT79"
      }
    },
    {
      "cell_type": "markdown",
      "source": [
        "## Adhering to Brand Guidelines\n",
        "- **Detailed Prompting**: The most crucial step is to create a detailed prompt that explicitly outlines the brand's tone of voice, style, and content requirements. This includes specifying the desired tone attributes (e.g., friendly, professional), structural elements (e.g., subject line, closing), and specific examples of language to use or avoid. The prompt acts as a digital brand guideline for the LLM.\n",
        "\n",
        "- **Guardrails**: Use modular templates with fixed structure (header, body, CTA) where only personalized text is generated.\n",
        "\n",
        "- **Human-in-the-Loop**: Marketing/CRM team reviews high-impact campaigns to validate tone and compliance before deployment.\n",
        "\n",
        "- **Fine-tuning / Style Guides**: Optionally fine-tune the LLM on historical customer communications or supply brand guidelines as context documents.\n",
        "\n",
        "## Scaling Across Customer Journeys\n",
        "The concept of using LLMs for brand-aligned content can be scaled by creating a modular system that adapts to different customer journeys, phases, or segments.\n",
        "\n",
        "- **Modular Prompt Design**: Create a series of modular prompts that correspond to different stages of the customer journey (e.g., onboarding, retention, win-back). Each prompt can be a template with specific variables to be filled in. For example, the retention prompt would focus on loyalty and value, while an onboarding prompt would emphasize a welcoming and informative tone.\n",
        "\n",
        "- **Segmentation**: The same modular prompt can be adapted for different customer segments by changing the variables.\n",
        "\n",
        "- **High-Value Customers**: The prompt can be set to generate content that uses a more exclusive and personalized tone, offering premium benefits.\n",
        "\n",
        "- **Price-Sensitive Customers**: The prompt can be tailored to focus on cost savings, discounts, and value for money.\n",
        "\n",
        "- **Dynamic Content Generation**: The prompts can be integrated with a CRM or customer data platform. This allows the system to automatically pull in personalized information (e.g., customer name, usage history, specific products purchased) to create hyper-personalized emails at scale. The system can be triggered by customer behavior, such as a long period of inactivity or an upcoming contract renewal, ensuring the right message is sent at the right time."
      ],
      "metadata": {
        "id": "L5ztgWp1TN0y"
      }
    },
    {
      "cell_type": "code",
      "source": [],
      "metadata": {
        "id": "4BiRtnMAUuws"
      },
      "execution_count": 7,
      "outputs": []
    }
  ]
}